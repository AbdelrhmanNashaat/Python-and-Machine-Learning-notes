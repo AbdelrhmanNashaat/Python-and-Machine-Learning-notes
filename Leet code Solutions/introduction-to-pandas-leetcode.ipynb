{
 "metadata": {
  "kernelspec": {
   "language": "python",
   "display_name": "Python 3",
   "name": "python3"
  },
  "language_info": {
   "name": "python",
   "version": "3.10.12",
   "mimetype": "text/x-python",
   "codemirror_mode": {
    "name": "ipython",
    "version": 3
   },
   "pygments_lexer": "ipython3",
   "nbconvert_exporter": "python",
   "file_extension": ".py"
  }
 },
 "nbformat_minor": 4,
 "nbformat": 4,
 "cells": [
  {
   "cell_type": "code",
   "source": [
    "import pandas as pd\n",
    "# 2877. Create a DataFrame from List\n",
    "student_data =[\n",
    "  [1, 15],\n",
    "  [2, 11],\n",
    "  [3, 11],\n",
    "  [4, 20]\n",
    "]\n",
    "columns = ['student_id','age']\n",
    "data = pd.DataFrame(student_data, columns=columns)\n",
    "print(data)"
   ],
   "metadata": {
    "_uuid": "8f2839f25d086af736a60e9eeb907d3b93b6e0e5",
    "_cell_guid": "b1076dfc-b9ad-4769-8c92-a6c4dae69d19",
    "execution": {
     "iopub.status.busy": "2023-11-08T23:21:48.221990Z",
     "iopub.execute_input": "2023-11-08T23:21:48.222563Z",
     "iopub.status.idle": "2023-11-08T23:21:48.235161Z",
     "shell.execute_reply.started": "2023-11-08T23:21:48.222526Z",
     "shell.execute_reply": "2023-11-08T23:21:48.233645Z"
    },
    "trusted": true
   },
   "execution_count": 6,
   "outputs": [
    {
     "name": "stdout",
     "text": "   student_id  age\n0           1   15\n1           2   11\n2           3   11\n3           4   20\n",
     "output_type": "stream"
    }
   ]
  },
  {
   "cell_type": "code",
   "source": [
    "print(aaa)"
   ],
   "metadata": {},
   "execution_count": null,
   "outputs": []
  }
 ]
}
